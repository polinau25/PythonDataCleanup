{
 "cells": [
  {
   "cell_type": "markdown",
   "id": "1224e10d-ea40-4279-bec6-fa60162eda2e",
   "metadata": {},
   "source": [
    "# Data cleaning project\n",
    "## This project uses a kaggle dataset: mohammedarfathr/smartwatch-health-data-uncleaned."
   ]
  },
  {
   "cell_type": "code",
   "execution_count": 1,
   "id": "54985908-596a-429d-9ee9-304add4ba23b",
   "metadata": {},
   "outputs": [
    {
     "name": "stdout",
     "output_type": "stream",
     "text": [
      "Dataset URL: https://www.kaggle.com/datasets/mohammedarfathr/smartwatch-health-data-uncleaned\n"
     ]
    }
   ],
   "source": [
    "import kaggle\n",
    "import os\n",
    "    \n",
    "# Set the path to the download directory\n",
    "download_path = './data'\n",
    "    \n",
    "# Ensure the download directory exists\n",
    "os.makedirs(download_path, exist_ok=True)\n",
    "    \n",
    "# Download the dataset\n",
    "kaggle.api.authenticate()\n",
    "kaggle.api.dataset_download_files('mohammedarfathr/smartwatch-health-data-uncleaned', path=download_path, unzip=True)"
   ]
  },
  {
   "cell_type": "code",
   "execution_count": 120,
   "id": "b787a2ed-74e6-4f2c-a776-a696b9bbb1f5",
   "metadata": {},
   "outputs": [
    {
     "name": "stdout",
     "output_type": "stream",
     "text": [
      "<class 'pandas.core.frame.DataFrame'>\n",
      "RangeIndex: 10000 entries, 0 to 9999\n",
      "Data columns (total 7 columns):\n",
      " #   Column                  Non-Null Count  Dtype  \n",
      "---  ------                  --------------  -----  \n",
      " 0   User ID                 9799 non-null   float64\n",
      " 1   Heart Rate (BPM)        9600 non-null   float64\n",
      " 2   Blood Oxygen Level (%)  9700 non-null   float64\n",
      " 3   Step Count              9900 non-null   float64\n",
      " 4   Sleep Duration (hours)  9850 non-null   object \n",
      " 5   Activity Level          9800 non-null   object \n",
      " 6   Stress Level            9800 non-null   object \n",
      "dtypes: float64(4), object(3)\n",
      "memory usage: 547.0+ KB\n"
     ]
    }
   ],
   "source": [
    "import pandas as pd\n",
    "import numpy as np\n",
    "df = pd.read_csv(f\"{download_path}/unclean_smartwatch_health_data.csv\")"
   ]
  },
  {
   "cell_type": "markdown",
   "id": "e6a07b9a-ce32-435a-8042-abfed84ce322",
   "metadata": {},
   "source": [
    "### Let's first do an overview of the data."
   ]
  },
  {
   "cell_type": "code",
   "execution_count": null,
   "id": "9ee78c46-a018-4a46-863e-6def24a032ef",
   "metadata": {},
   "outputs": [],
   "source": [
    "df.info()"
   ]
  },
  {
   "cell_type": "code",
   "execution_count": 121,
   "id": "bd8a1326-7c70-46f0-8117-2b04c814a5e6",
   "metadata": {},
   "outputs": [
    {
     "data": {
      "text/plain": [
       "(10000, 7)"
      ]
     },
     "execution_count": 121,
     "metadata": {},
     "output_type": "execute_result"
    }
   ],
   "source": [
    "df.shape"
   ]
  },
  {
   "cell_type": "code",
   "execution_count": 138,
   "id": "f910cdc7-f868-4f16-b274-c8e59911c0dc",
   "metadata": {},
   "outputs": [
    {
     "data": {
      "text/html": [
       "<div>\n",
       "<style scoped>\n",
       "    .dataframe tbody tr th:only-of-type {\n",
       "        vertical-align: middle;\n",
       "    }\n",
       "\n",
       "    .dataframe tbody tr th {\n",
       "        vertical-align: top;\n",
       "    }\n",
       "\n",
       "    .dataframe thead th {\n",
       "        text-align: right;\n",
       "    }\n",
       "</style>\n",
       "<table border=\"1\" class=\"dataframe\">\n",
       "  <thead>\n",
       "    <tr style=\"text-align: right;\">\n",
       "      <th></th>\n",
       "      <th>User ID</th>\n",
       "      <th>Heart Rate (BPM)</th>\n",
       "      <th>Blood Oxygen Level (%)</th>\n",
       "      <th>Step Count</th>\n",
       "      <th>Sleep Duration (hours)</th>\n",
       "      <th>Activity Level</th>\n",
       "      <th>Stress Level</th>\n",
       "    </tr>\n",
       "  </thead>\n",
       "  <tbody>\n",
       "    <tr>\n",
       "      <th>0</th>\n",
       "      <td>4174.0</td>\n",
       "      <td>58.9</td>\n",
       "      <td>98.8</td>\n",
       "      <td>5450</td>\n",
       "      <td>7.2</td>\n",
       "      <td>Highly_Active</td>\n",
       "      <td>1</td>\n",
       "    </tr>\n",
       "    <tr>\n",
       "      <th>1</th>\n",
       "      <td>NaN</td>\n",
       "      <td>NaN</td>\n",
       "      <td>98.5</td>\n",
       "      <td>727</td>\n",
       "      <td>6.5</td>\n",
       "      <td>Highly_Active</td>\n",
       "      <td>5</td>\n",
       "    </tr>\n",
       "    <tr>\n",
       "      <th>2</th>\n",
       "      <td>1860.0</td>\n",
       "      <td>247.8</td>\n",
       "      <td>97.1</td>\n",
       "      <td>2826</td>\n",
       "      <td>0.0</td>\n",
       "      <td>Highly_Active</td>\n",
       "      <td>5</td>\n",
       "    </tr>\n",
       "    <tr>\n",
       "      <th>3</th>\n",
       "      <td>2294.0</td>\n",
       "      <td>40.0</td>\n",
       "      <td>96.9</td>\n",
       "      <td>13797</td>\n",
       "      <td>7.4</td>\n",
       "      <td>Active</td>\n",
       "      <td>3</td>\n",
       "    </tr>\n",
       "    <tr>\n",
       "      <th>4</th>\n",
       "      <td>2130.0</td>\n",
       "      <td>62.0</td>\n",
       "      <td>98.6</td>\n",
       "      <td>15679</td>\n",
       "      <td>NaN</td>\n",
       "      <td>Highly_Active</td>\n",
       "      <td>6</td>\n",
       "    </tr>\n",
       "    <tr>\n",
       "      <th>5</th>\n",
       "      <td>2095.0</td>\n",
       "      <td>96.3</td>\n",
       "      <td>94.2</td>\n",
       "      <td>10205</td>\n",
       "      <td>8.4</td>\n",
       "      <td>Highly_Active</td>\n",
       "      <td>10</td>\n",
       "    </tr>\n",
       "    <tr>\n",
       "      <th>6</th>\n",
       "      <td>4772.0</td>\n",
       "      <td>47.3</td>\n",
       "      <td>95.4</td>\n",
       "      <td>3208</td>\n",
       "      <td>7.9</td>\n",
       "      <td>Sedentary</td>\n",
       "      <td>2</td>\n",
       "    </tr>\n",
       "    <tr>\n",
       "      <th>7</th>\n",
       "      <td>4092.0</td>\n",
       "      <td>81.7</td>\n",
       "      <td>96.0</td>\n",
       "      <td>6051</td>\n",
       "      <td>5.2</td>\n",
       "      <td>Sedentary</td>\n",
       "      <td>1</td>\n",
       "    </tr>\n",
       "    <tr>\n",
       "      <th>8</th>\n",
       "      <td>3979.0</td>\n",
       "      <td>93.3</td>\n",
       "      <td>97.2</td>\n",
       "      <td>1775</td>\n",
       "      <td>5.5</td>\n",
       "      <td>Sedentary</td>\n",
       "      <td>1</td>\n",
       "    </tr>\n",
       "    <tr>\n",
       "      <th>9</th>\n",
       "      <td>3169.0</td>\n",
       "      <td>51.4</td>\n",
       "      <td>97.3</td>\n",
       "      <td>7940</td>\n",
       "      <td>8.0</td>\n",
       "      <td>Sedentary</td>\n",
       "      <td>8</td>\n",
       "    </tr>\n",
       "    <tr>\n",
       "      <th>10</th>\n",
       "      <td>1466.0</td>\n",
       "      <td>101.9</td>\n",
       "      <td>NaN</td>\n",
       "      <td>2987</td>\n",
       "      <td>7.5</td>\n",
       "      <td>Sedentary</td>\n",
       "      <td>9</td>\n",
       "    </tr>\n",
       "    <tr>\n",
       "      <th>11</th>\n",
       "      <td>2238.0</td>\n",
       "      <td>73.9</td>\n",
       "      <td>95.4</td>\n",
       "      <td>1748</td>\n",
       "      <td>4.8</td>\n",
       "      <td>Active</td>\n",
       "      <td>1</td>\n",
       "    </tr>\n",
       "    <tr>\n",
       "      <th>12</th>\n",
       "      <td>1330.0</td>\n",
       "      <td>95.4</td>\n",
       "      <td>99.2</td>\n",
       "      <td>6155</td>\n",
       "      <td>5.8</td>\n",
       "      <td>Highly_Active</td>\n",
       "      <td>10</td>\n",
       "    </tr>\n",
       "    <tr>\n",
       "      <th>13</th>\n",
       "      <td>2482.0</td>\n",
       "      <td>79.1</td>\n",
       "      <td>99.0</td>\n",
       "      <td>829</td>\n",
       "      <td>6.3</td>\n",
       "      <td>Sedentary</td>\n",
       "      <td>NaN</td>\n",
       "    </tr>\n",
       "    <tr>\n",
       "      <th>14</th>\n",
       "      <td>3135.0</td>\n",
       "      <td>68.1</td>\n",
       "      <td>99.7</td>\n",
       "      <td>8124</td>\n",
       "      <td>6.4</td>\n",
       "      <td>Highly_Active</td>\n",
       "      <td>5</td>\n",
       "    </tr>\n",
       "    <tr>\n",
       "      <th>15</th>\n",
       "      <td>4444.0</td>\n",
       "      <td>40.0</td>\n",
       "      <td>99.0</td>\n",
       "      <td>1449</td>\n",
       "      <td>6.4</td>\n",
       "      <td>Active</td>\n",
       "      <td>2</td>\n",
       "    </tr>\n",
       "    <tr>\n",
       "      <th>16</th>\n",
       "      <td>4171.0</td>\n",
       "      <td>58.3</td>\n",
       "      <td>97.8</td>\n",
       "      <td>5643</td>\n",
       "      <td>7.8</td>\n",
       "      <td>Sedentary</td>\n",
       "      <td>10</td>\n",
       "    </tr>\n",
       "    <tr>\n",
       "      <th>17</th>\n",
       "      <td>3919.0</td>\n",
       "      <td>NaN</td>\n",
       "      <td>96.1</td>\n",
       "      <td>3488</td>\n",
       "      <td>6.7</td>\n",
       "      <td>Sedentary</td>\n",
       "      <td>4</td>\n",
       "    </tr>\n",
       "    <tr>\n",
       "      <th>18</th>\n",
       "      <td>4735.0</td>\n",
       "      <td>98.1</td>\n",
       "      <td>96.0</td>\n",
       "      <td>5846</td>\n",
       "      <td>6.6</td>\n",
       "      <td>Sedentary</td>\n",
       "      <td>9</td>\n",
       "    </tr>\n",
       "    <tr>\n",
       "      <th>19</th>\n",
       "      <td>NaN</td>\n",
       "      <td>53.9</td>\n",
       "      <td>96.3</td>\n",
       "      <td>1976</td>\n",
       "      <td>5.4</td>\n",
       "      <td>Highly_Active</td>\n",
       "      <td>5</td>\n",
       "    </tr>\n",
       "  </tbody>\n",
       "</table>\n",
       "</div>"
      ],
      "text/plain": [
       "    User ID  Heart Rate (BPM)  Blood Oxygen Level (%)  Step Count  \\\n",
       "0    4174.0              58.9                    98.8        5450   \n",
       "1       NaN               NaN                    98.5         727   \n",
       "2    1860.0             247.8                    97.1        2826   \n",
       "3    2294.0              40.0                    96.9       13797   \n",
       "4    2130.0              62.0                    98.6       15679   \n",
       "5    2095.0              96.3                    94.2       10205   \n",
       "6    4772.0              47.3                    95.4        3208   \n",
       "7    4092.0              81.7                    96.0        6051   \n",
       "8    3979.0              93.3                    97.2        1775   \n",
       "9    3169.0              51.4                    97.3        7940   \n",
       "10   1466.0             101.9                     NaN        2987   \n",
       "11   2238.0              73.9                    95.4        1748   \n",
       "12   1330.0              95.4                    99.2        6155   \n",
       "13   2482.0              79.1                    99.0         829   \n",
       "14   3135.0              68.1                    99.7        8124   \n",
       "15   4444.0              40.0                    99.0        1449   \n",
       "16   4171.0              58.3                    97.8        5643   \n",
       "17   3919.0               NaN                    96.1        3488   \n",
       "18   4735.0              98.1                    96.0        5846   \n",
       "19      NaN              53.9                    96.3        1976   \n",
       "\n",
       "    Sleep Duration (hours) Activity Level Stress Level  \n",
       "0                      7.2  Highly_Active            1  \n",
       "1                      6.5  Highly_Active            5  \n",
       "2                      0.0  Highly_Active            5  \n",
       "3                      7.4         Active            3  \n",
       "4                      NaN  Highly_Active            6  \n",
       "5                      8.4  Highly_Active           10  \n",
       "6                      7.9      Sedentary            2  \n",
       "7                      5.2      Sedentary            1  \n",
       "8                      5.5      Sedentary            1  \n",
       "9                      8.0      Sedentary            8  \n",
       "10                     7.5      Sedentary            9  \n",
       "11                     4.8         Active            1  \n",
       "12                     5.8  Highly_Active           10  \n",
       "13                     6.3      Sedentary          NaN  \n",
       "14                     6.4  Highly_Active            5  \n",
       "15                     6.4         Active            2  \n",
       "16                     7.8      Sedentary           10  \n",
       "17                     6.7      Sedentary            4  \n",
       "18                     6.6      Sedentary            9  \n",
       "19                     5.4  Highly_Active            5  "
      ]
     },
     "execution_count": 138,
     "metadata": {},
     "output_type": "execute_result"
    }
   ],
   "source": [
    "df.head(20)"
   ]
  },
  {
   "cell_type": "code",
   "execution_count": 6,
   "id": "5dec8365-f17f-4671-a11b-5c6b91374f9b",
   "metadata": {},
   "outputs": [
    {
     "name": "stdout",
     "output_type": "stream",
     "text": [
      "<class 'pandas.core.frame.DataFrame'>\n",
      "RangeIndex: 10000 entries, 0 to 9999\n",
      "Data columns (total 7 columns):\n",
      " #   Column                  Non-Null Count  Dtype  \n",
      "---  ------                  --------------  -----  \n",
      " 0   User ID                 9799 non-null   float64\n",
      " 1   Heart Rate (BPM)        9600 non-null   float64\n",
      " 2   Blood Oxygen Level (%)  9700 non-null   float64\n",
      " 3   Step Count              9900 non-null   float64\n",
      " 4   Sleep Duration (hours)  9850 non-null   object \n",
      " 5   Activity Level          9800 non-null   object \n",
      " 6   Stress Level            9800 non-null   object \n",
      "dtypes: float64(4), object(3)\n",
      "memory usage: 547.0+ KB\n"
     ]
    }
   ],
   "source": [
    "df.isnull().sum()"
   ]
  },
  {
   "cell_type": "code",
   "execution_count": 110,
   "id": "9100f944-07f0-4ba3-92dc-2edb0cb7e69f",
   "metadata": {},
   "outputs": [
    {
     "data": {
      "text/plain": [
       "0"
      ]
     },
     "execution_count": 110,
     "metadata": {},
     "output_type": "execute_result"
    }
   ],
   "source": [
    "# Let's check for duplicates\n",
    "df.duplicated().sum()"
   ]
  },
  {
   "cell_type": "markdown",
   "id": "6ac18c13-201d-4134-a0a7-eb6780699781",
   "metadata": {},
   "source": [
    "#### We can see that there are no duplicates, but there are some typos and missing values. \n",
    "#### We can also see that the values have a lot of decimal places.\n",
    "#### Let's now proceed to cleaning the data."
   ]
  },
  {
   "cell_type": "markdown",
   "id": "fdffafa8-f12a-466d-b2d2-3a189d3c3ea8",
   "metadata": {},
   "source": [
    "#### ================\n",
    "#### 'User ID' column cleanup\n",
    "#### ================"
   ]
  },
  {
   "cell_type": "code",
   "execution_count": 155,
   "id": "918092ae-1776-490f-95d4-b4ff5eb96dfb",
   "metadata": {},
   "outputs": [],
   "source": [
    "# Let's fill unique ids for missing values in User ID column\n",
    "def generate_unique_ids_for_nan(df, column_name, start_range, end_range):\n",
    "    \"\"\"\n",
    "    Generates unique IDs within a specified range for NaN values in a DataFrame column.\n",
    "\n",
    "    Args:\n",
    "        df (pd.DataFrame): The DataFrame to modify.\n",
    "        column_name (str): The name of the column containing NaN values.\n",
    "        start_range (int): The starting value for the unique ID range.\n",
    "        end_range (int): The ending value for the unique ID range (inclusive).\n",
    "\n",
    "    Returns:\n",
    "        pd.DataFrame: The modified DataFrame with NaN values replaced by unique IDs.\n",
    "    \"\"\"\n",
    "    # Create a set of existing values in the column to ensure uniqueness\n",
    "    existing_ids = set(df[column_name].dropna())\n",
    "    \n",
    "    # Generate unique IDs for NaN values\n",
    "    num_nan = df[column_name].isnull().sum()\n",
    "    \n",
    "    # Generate a sequence of numbers within the range\n",
    "    id_sequence = list(range(start_range, end_range + 1))\n",
    "    \n",
    "    # Filter out existing IDs and shuffle the sequence to ensure randomness\n",
    "    available_ids = [i for i in id_sequence if i not in existing_ids]\n",
    "    np.random.shuffle(available_ids)\n",
    "    \n",
    "    # Take only as many IDs as there are NaN values\n",
    "    unique_ids = available_ids[:num_nan]\n",
    "\n",
    "    # Create a dictionary mapping NaN indices to unique IDs\n",
    "    nan_indices = df[df[column_name].isnull()].index\n",
    "    id_map = dict(zip(nan_indices, unique_ids))\n",
    "\n",
    "    # Fill NaN values with the generated unique IDs\n",
    "    df[column_name] = df[column_name].fillna(id_map)\n",
    "\n",
    "    return df\n",
    "\n",
    "df = generate_unique_ids_for_nan(df, 'User ID', 1000, 4999)"
   ]
  },
  {
   "cell_type": "code",
   "execution_count": 156,
   "id": "deb9e359-4857-4926-ac67-72fa214aa90d",
   "metadata": {},
   "outputs": [
    {
     "name": "stdout",
     "output_type": "stream",
     "text": [
      "0       4174.0\n",
      "2       1860.0\n",
      "3       2294.0\n",
      "4       2130.0\n",
      "5       2095.0\n",
      "         ...  \n",
      "9994    1942.0\n",
      "9995    1524.0\n",
      "9996    4879.0\n",
      "9997    2624.0\n",
      "9999    4113.0\n",
      "Name: User ID, Length: 9600, dtype: float64\n"
     ]
    }
   ],
   "source": [
    "print(df['User ID'])"
   ]
  },
  {
   "cell_type": "code",
   "execution_count": 157,
   "id": "e084a74f-e324-451d-b1ea-5c45801856e6",
   "metadata": {},
   "outputs": [],
   "source": [
    "# Let's convert User ID to int\n",
    "df['User ID'] = df['User ID'].astype(int)"
   ]
  },
  {
   "cell_type": "markdown",
   "id": "3b940806-412e-4915-96d2-cb5dc708c484",
   "metadata": {},
   "source": [
    "#### ==========================\n",
    "#### 'Sleep Duration (hours)' column cleanup\n",
    "#### =========================="
   ]
  },
  {
   "cell_type": "code",
   "execution_count": 13,
   "id": "a705c55f-2659-48d1-9ef4-2faf1f0bde42",
   "metadata": {},
   "outputs": [
    {
     "data": {
      "text/plain": [
       "array([7.16723562, 6.53823938,        nan, ..., 6.9165492 , 5.69123393,\n",
       "       5.69100104])"
      ]
     },
     "execution_count": 13,
     "metadata": {},
     "output_type": "execute_result"
    }
   ],
   "source": [
    "df['Sleep Duration (hours)'].unique()"
   ]
  },
  {
   "cell_type": "code",
   "execution_count": 152,
   "id": "022d0088-770c-4d4a-a89a-9640750032c7",
   "metadata": {},
   "outputs": [],
   "source": [
    "# Replace empty strings,'ERROR' and NaN with 0\n",
    "df['Sleep Duration (hours)'] = df['Sleep Duration (hours)'].replace(['', 'ERROR', np.nan], 0)"
   ]
  },
  {
   "cell_type": "code",
   "execution_count": 126,
   "id": "e45be08f-b52c-4406-a989-da5d6dc629cf",
   "metadata": {},
   "outputs": [],
   "source": [
    "# Let's convert 'Sleep duration' to float\n",
    "df['Sleep Duration (hours)'] = df['Sleep Duration (hours)'].astype(float)"
   ]
  },
  {
   "cell_type": "code",
   "execution_count": 127,
   "id": "fc480542-db41-44d7-83bc-e899a3a59683",
   "metadata": {},
   "outputs": [],
   "source": [
    "# Looks like there is a negative value in Sleep Duration (hours) column, we'll replace it with 0\n",
    "df['Sleep Duration (hours)'] = np.where(df['Sleep Duration (hours)'].lt(0), 0, df['Sleep Duration (hours)'])"
   ]
  },
  {
   "cell_type": "markdown",
   "id": "9e8da22b-cd12-42dc-9ebc-9279377e6658",
   "metadata": {},
   "source": [
    "#### ====================\n",
    "#### 'Step Count' column cleanup\n",
    "#### ===================="
   ]
  },
  {
   "cell_type": "code",
   "execution_count": 128,
   "id": "7fd7a345-cd62-4982-a8d2-6996619ee907",
   "metadata": {},
   "outputs": [],
   "source": [
    "# Replace empty strings with 0\n",
    "df['Step Count'] = df['Step Count'].replace([np.nan], 0)"
   ]
  },
  {
   "cell_type": "code",
   "execution_count": 129,
   "id": "e6566f80-d43f-4429-9097-36c74335cba6",
   "metadata": {},
   "outputs": [],
   "source": [
    "# Let's convert 'Step Count' to int\n",
    "df['Step Count'] = df['Step Count'].astype(int)"
   ]
  },
  {
   "cell_type": "markdown",
   "id": "1b10b890-9b4d-49cc-b55e-b54ff5f6e9db",
   "metadata": {},
   "source": [
    "#### ====================\n",
    "#### Round data in some columns\n",
    "#### ===================="
   ]
  },
  {
   "cell_type": "code",
   "execution_count": 130,
   "id": "1a811b33-c52b-4739-b2c6-bf15f4672884",
   "metadata": {},
   "outputs": [],
   "source": [
    "df = df.round({'Heart Rate (BPM)': 1, 'Blood Oxygen Level (%)': 1, 'Sleep Duration (hours)': 1})"
   ]
  },
  {
   "cell_type": "code",
   "execution_count": 131,
   "id": "12631b74-db08-4879-a1f9-769ea267d2e6",
   "metadata": {},
   "outputs": [
    {
     "name": "stdout",
     "output_type": "stream",
     "text": [
      "<class 'pandas.core.frame.DataFrame'>\n",
      "RangeIndex: 10000 entries, 0 to 9999\n",
      "Data columns (total 7 columns):\n",
      " #   Column                  Non-Null Count  Dtype  \n",
      "---  ------                  --------------  -----  \n",
      " 0   User ID                 9799 non-null   float64\n",
      " 1   Heart Rate (BPM)        9600 non-null   float64\n",
      " 2   Blood Oxygen Level (%)  9700 non-null   float64\n",
      " 3   Step Count              10000 non-null  int32  \n",
      " 4   Sleep Duration (hours)  9850 non-null   float64\n",
      " 5   Activity Level          9800 non-null   object \n",
      " 6   Stress Level            9800 non-null   object \n",
      "dtypes: float64(4), int32(1), object(2)\n",
      "memory usage: 507.9+ KB\n"
     ]
    }
   ],
   "source": [
    "# We can see that memory usage has decreased\n",
    "df.info()"
   ]
  },
  {
   "cell_type": "markdown",
   "id": "3183638b-73fe-4bfe-9edd-9f6005d514de",
   "metadata": {},
   "source": [
    "#### ====================\n",
    "#### 'Activity Level' column cleanup\n",
    "#### ===================="
   ]
  },
  {
   "cell_type": "code",
   "execution_count": 134,
   "id": "aeff7a6f-b309-499a-9704-c8d6945aad72",
   "metadata": {},
   "outputs": [
    {
     "data": {
      "text/plain": [
       "array(['Highly_Active', 'Active', 'Sedentary', nan], dtype=object)"
      ]
     },
     "execution_count": 134,
     "metadata": {},
     "output_type": "execute_result"
    }
   ],
   "source": [
    "# Let's fix some typos in Activity Level column\n",
    "df['Activity Level'].unique()"
   ]
  },
  {
   "cell_type": "code",
   "execution_count": 133,
   "id": "51ae0473-034b-49c0-a498-21dc69878038",
   "metadata": {},
   "outputs": [],
   "source": [
    "df['Activity Level'] = df['Activity Level'].replace('Seddentary', 'Sedentary')\n",
    "df['Activity Level'] = df['Activity Level'].replace('Actve', 'Active')\n",
    "df['Activity Level'] = df['Activity Level'].replace('Highly Active', 'Highly_Active')"
   ]
  },
  {
   "cell_type": "code",
   "execution_count": 137,
   "id": "677f508a-caa4-4278-a4a2-4433f352542b",
   "metadata": {},
   "outputs": [
    {
     "name": "stdout",
     "output_type": "stream",
     "text": [
      "Activity Level\n",
      "Active           6963.035528\n",
      "Highly_Active    6888.711430\n",
      "Sedentary        6909.849385\n",
      "Name: Step Count, dtype: float64\n"
     ]
    }
   ],
   "source": [
    "# Let's see if there is correlation between 'Step Count' and 'Activity Level'\n",
    "# Let's first find average number of steps in each activity level\n",
    "print(df.groupby('Activity Level')['Step Count'].mean())"
   ]
  },
  {
   "cell_type": "code",
   "execution_count": 143,
   "id": "672a7be5-7494-4ff9-aebc-82f83d1affef",
   "metadata": {},
   "outputs": [
    {
     "name": "stdout",
     "output_type": "stream",
     "text": [
      "Activity Level\n",
      "Active           75.969796\n",
      "Highly_Active    76.093895\n",
      "Sedentary        76.032110\n",
      "Name: Heart Rate (BPM), dtype: float64\n"
     ]
    }
   ],
   "source": [
    "# We can see that Activity Level doesn't correlate with step count\n",
    "# Let's see if there is correlation between 'Heart Rate (BPM)' and 'Activity Level'\n",
    "print(df.groupby('Activity Level')['Heart Rate (BPM)'].mean())"
   ]
  },
  {
   "cell_type": "code",
   "execution_count": 146,
   "id": "cb03baab-dcc5-4204-a6b2-e72395847d23",
   "metadata": {},
   "outputs": [],
   "source": [
    "# To showcase one more strategy for filling missing values, let's populate missing Activity Level based on Step Count\n",
    "df['Activity Level'] = np.where((df['Step Count'].lt(4000)) & (df['Activity Level'].isnull()), 'Sedentary', df['Activity Level'])\n",
    "df['Activity Level'] = np.where((df['Step Count'].ge(4000) & df['Step Count'].lt(10000)) & (df['Activity Level'].isnull()), 'Active', df['Activity Level'])\n",
    "df['Activity Level'] = np.where((df['Step Count'].ge(10000)) & (df['Activity Level'].isnull()), 'Highly_Active', df['Activity Level'])"
   ]
  },
  {
   "cell_type": "markdown",
   "id": "ed2e6146-cdb9-46c8-960f-a3247d2df18e",
   "metadata": {},
   "source": [
    "#### ====================\n",
    "#### 'Stress Level' column cleanup\n",
    "#### ===================="
   ]
  },
  {
   "cell_type": "code",
   "execution_count": 139,
   "id": "a7e0e1d3-b920-4742-b702-07ad0f678c1c",
   "metadata": {},
   "outputs": [
    {
     "data": {
      "text/plain": [
       "array(['1', '5', '3', '6', '10', '2', '8', '9', nan, '4', 'Very High',\n",
       "       '7'], dtype=object)"
      ]
     },
     "execution_count": 139,
     "metadata": {},
     "output_type": "execute_result"
    }
   ],
   "source": [
    "df['Stress Level'].unique()"
   ]
  },
  {
   "cell_type": "code",
   "execution_count": 140,
   "id": "aa729d29-ba0a-40aa-99d3-005b2c54870c",
   "metadata": {},
   "outputs": [],
   "source": [
    "# Let's fix some typos in Stress Level column\n",
    "df['Stress Level'] = df['Stress Level'].replace('Very High', '10')"
   ]
  },
  {
   "cell_type": "code",
   "execution_count": 141,
   "id": "e6283dd0-dcae-40ec-b490-7e047a7de066",
   "metadata": {},
   "outputs": [],
   "source": [
    "# Let's convert Stress Level column to numeric\n",
    "df['Stress Level'] = pd.to_numeric(df['Stress Level'], errors='coerce')"
   ]
  },
  {
   "cell_type": "code",
   "execution_count": 58,
   "id": "6ffd1afe-ac5b-4c13-b99c-946ea9c2a08e",
   "metadata": {},
   "outputs": [],
   "source": [
    "# Let's replace missing values in 'Stress Level' column by median values\n",
    "df['Stress Level'].fillna(df['Stress Level'].median(), inplace=True)"
   ]
  },
  {
   "cell_type": "code",
   "execution_count": 159,
   "id": "98b4af06-8cad-46d7-8811-ca95a2bb6c66",
   "metadata": {},
   "outputs": [],
   "source": [
    "df['Stress Level'] = df['Stress Level'].astype(int)"
   ]
  },
  {
   "cell_type": "markdown",
   "id": "04ab7325-c165-4391-84c8-3e84a4caa24b",
   "metadata": {},
   "source": [
    "#### =======================\n",
    "#### 'Heart Rate (BPM)' column cleanup\n",
    "#### ======================="
   ]
  },
  {
   "cell_type": "code",
   "execution_count": 145,
   "id": "955eab1a-91f1-404b-b163-783b75b1bc8e",
   "metadata": {},
   "outputs": [],
   "source": [
    "# Let's assume that heart rate is the most important parameter in the dataset\n",
    "# So we'll drop the rows that have missing values in that column\n",
    "df = df.dropna(subset=['Heart Rate (BPM)'])"
   ]
  },
  {
   "cell_type": "markdown",
   "id": "fb80acb0-38f1-4d26-9156-d857b8965582",
   "metadata": {},
   "source": [
    "#### ====================\n",
    "#### 'Blood Oxygen Level (%)' column cleanup\n",
    "#### ===================="
   ]
  },
  {
   "cell_type": "code",
   "execution_count": 148,
   "id": "86b5847c-7a22-46cf-8029-db7e99810aad",
   "metadata": {},
   "outputs": [],
   "source": [
    "# Let's replace missing values in 'Blood Oxygen Level (%)' column by median values\n",
    "df['Blood Oxygen Level (%)'].fillna(df['Blood Oxygen Level (%)'].median(), inplace=True)"
   ]
  },
  {
   "cell_type": "code",
   "execution_count": 160,
   "id": "51cc7700-f158-42be-865d-dc8d22d57309",
   "metadata": {},
   "outputs": [
    {
     "data": {
      "text/html": [
       "<div>\n",
       "<style scoped>\n",
       "    .dataframe tbody tr th:only-of-type {\n",
       "        vertical-align: middle;\n",
       "    }\n",
       "\n",
       "    .dataframe tbody tr th {\n",
       "        vertical-align: top;\n",
       "    }\n",
       "\n",
       "    .dataframe thead th {\n",
       "        text-align: right;\n",
       "    }\n",
       "</style>\n",
       "<table border=\"1\" class=\"dataframe\">\n",
       "  <thead>\n",
       "    <tr style=\"text-align: right;\">\n",
       "      <th></th>\n",
       "      <th>User ID</th>\n",
       "      <th>Heart Rate (BPM)</th>\n",
       "      <th>Blood Oxygen Level (%)</th>\n",
       "      <th>Step Count</th>\n",
       "      <th>Sleep Duration (hours)</th>\n",
       "      <th>Activity Level</th>\n",
       "      <th>Stress Level</th>\n",
       "    </tr>\n",
       "  </thead>\n",
       "  <tbody>\n",
       "    <tr>\n",
       "      <th>0</th>\n",
       "      <td>4174</td>\n",
       "      <td>58.9</td>\n",
       "      <td>98.8</td>\n",
       "      <td>5450</td>\n",
       "      <td>7.2</td>\n",
       "      <td>Highly_Active</td>\n",
       "      <td>1</td>\n",
       "    </tr>\n",
       "    <tr>\n",
       "      <th>2</th>\n",
       "      <td>1860</td>\n",
       "      <td>247.8</td>\n",
       "      <td>97.1</td>\n",
       "      <td>2826</td>\n",
       "      <td>0.0</td>\n",
       "      <td>Highly_Active</td>\n",
       "      <td>5</td>\n",
       "    </tr>\n",
       "    <tr>\n",
       "      <th>3</th>\n",
       "      <td>2294</td>\n",
       "      <td>40.0</td>\n",
       "      <td>96.9</td>\n",
       "      <td>13797</td>\n",
       "      <td>7.4</td>\n",
       "      <td>Active</td>\n",
       "      <td>3</td>\n",
       "    </tr>\n",
       "    <tr>\n",
       "      <th>4</th>\n",
       "      <td>2130</td>\n",
       "      <td>62.0</td>\n",
       "      <td>98.6</td>\n",
       "      <td>15679</td>\n",
       "      <td>0.0</td>\n",
       "      <td>Highly_Active</td>\n",
       "      <td>6</td>\n",
       "    </tr>\n",
       "    <tr>\n",
       "      <th>5</th>\n",
       "      <td>2095</td>\n",
       "      <td>96.3</td>\n",
       "      <td>94.2</td>\n",
       "      <td>10205</td>\n",
       "      <td>8.4</td>\n",
       "      <td>Highly_Active</td>\n",
       "      <td>10</td>\n",
       "    </tr>\n",
       "    <tr>\n",
       "      <th>6</th>\n",
       "      <td>4772</td>\n",
       "      <td>47.3</td>\n",
       "      <td>95.4</td>\n",
       "      <td>3208</td>\n",
       "      <td>7.9</td>\n",
       "      <td>Sedentary</td>\n",
       "      <td>2</td>\n",
       "    </tr>\n",
       "    <tr>\n",
       "      <th>7</th>\n",
       "      <td>4092</td>\n",
       "      <td>81.7</td>\n",
       "      <td>96.0</td>\n",
       "      <td>6051</td>\n",
       "      <td>5.2</td>\n",
       "      <td>Sedentary</td>\n",
       "      <td>1</td>\n",
       "    </tr>\n",
       "    <tr>\n",
       "      <th>8</th>\n",
       "      <td>3979</td>\n",
       "      <td>93.3</td>\n",
       "      <td>97.2</td>\n",
       "      <td>1775</td>\n",
       "      <td>5.5</td>\n",
       "      <td>Sedentary</td>\n",
       "      <td>1</td>\n",
       "    </tr>\n",
       "    <tr>\n",
       "      <th>9</th>\n",
       "      <td>3169</td>\n",
       "      <td>51.4</td>\n",
       "      <td>97.3</td>\n",
       "      <td>7940</td>\n",
       "      <td>8.0</td>\n",
       "      <td>Sedentary</td>\n",
       "      <td>8</td>\n",
       "    </tr>\n",
       "    <tr>\n",
       "      <th>10</th>\n",
       "      <td>1466</td>\n",
       "      <td>101.9</td>\n",
       "      <td>98.0</td>\n",
       "      <td>2987</td>\n",
       "      <td>7.5</td>\n",
       "      <td>Sedentary</td>\n",
       "      <td>9</td>\n",
       "    </tr>\n",
       "    <tr>\n",
       "      <th>11</th>\n",
       "      <td>2238</td>\n",
       "      <td>73.9</td>\n",
       "      <td>95.4</td>\n",
       "      <td>1748</td>\n",
       "      <td>4.8</td>\n",
       "      <td>Active</td>\n",
       "      <td>1</td>\n",
       "    </tr>\n",
       "    <tr>\n",
       "      <th>12</th>\n",
       "      <td>1330</td>\n",
       "      <td>95.4</td>\n",
       "      <td>99.2</td>\n",
       "      <td>6155</td>\n",
       "      <td>5.8</td>\n",
       "      <td>Highly_Active</td>\n",
       "      <td>10</td>\n",
       "    </tr>\n",
       "    <tr>\n",
       "      <th>13</th>\n",
       "      <td>2482</td>\n",
       "      <td>79.1</td>\n",
       "      <td>99.0</td>\n",
       "      <td>829</td>\n",
       "      <td>6.3</td>\n",
       "      <td>Sedentary</td>\n",
       "      <td>6</td>\n",
       "    </tr>\n",
       "    <tr>\n",
       "      <th>14</th>\n",
       "      <td>3135</td>\n",
       "      <td>68.1</td>\n",
       "      <td>99.7</td>\n",
       "      <td>8124</td>\n",
       "      <td>6.4</td>\n",
       "      <td>Highly_Active</td>\n",
       "      <td>5</td>\n",
       "    </tr>\n",
       "    <tr>\n",
       "      <th>15</th>\n",
       "      <td>4444</td>\n",
       "      <td>40.0</td>\n",
       "      <td>99.0</td>\n",
       "      <td>1449</td>\n",
       "      <td>6.4</td>\n",
       "      <td>Active</td>\n",
       "      <td>2</td>\n",
       "    </tr>\n",
       "    <tr>\n",
       "      <th>16</th>\n",
       "      <td>4171</td>\n",
       "      <td>58.3</td>\n",
       "      <td>97.8</td>\n",
       "      <td>5643</td>\n",
       "      <td>7.8</td>\n",
       "      <td>Sedentary</td>\n",
       "      <td>10</td>\n",
       "    </tr>\n",
       "    <tr>\n",
       "      <th>18</th>\n",
       "      <td>4735</td>\n",
       "      <td>98.1</td>\n",
       "      <td>96.0</td>\n",
       "      <td>5846</td>\n",
       "      <td>6.6</td>\n",
       "      <td>Sedentary</td>\n",
       "      <td>9</td>\n",
       "    </tr>\n",
       "    <tr>\n",
       "      <th>19</th>\n",
       "      <td>2606</td>\n",
       "      <td>53.9</td>\n",
       "      <td>96.3</td>\n",
       "      <td>1976</td>\n",
       "      <td>5.4</td>\n",
       "      <td>Highly_Active</td>\n",
       "      <td>5</td>\n",
       "    </tr>\n",
       "    <tr>\n",
       "      <th>20</th>\n",
       "      <td>2685</td>\n",
       "      <td>74.1</td>\n",
       "      <td>99.6</td>\n",
       "      <td>2601</td>\n",
       "      <td>6.8</td>\n",
       "      <td>Highly_Active</td>\n",
       "      <td>9</td>\n",
       "    </tr>\n",
       "    <tr>\n",
       "      <th>21</th>\n",
       "      <td>4380</td>\n",
       "      <td>68.3</td>\n",
       "      <td>98.0</td>\n",
       "      <td>1058</td>\n",
       "      <td>6.5</td>\n",
       "      <td>Active</td>\n",
       "      <td>3</td>\n",
       "    </tr>\n",
       "  </tbody>\n",
       "</table>\n",
       "</div>"
      ],
      "text/plain": [
       "    User ID  Heart Rate (BPM)  Blood Oxygen Level (%)  Step Count  \\\n",
       "0      4174              58.9                    98.8        5450   \n",
       "2      1860             247.8                    97.1        2826   \n",
       "3      2294              40.0                    96.9       13797   \n",
       "4      2130              62.0                    98.6       15679   \n",
       "5      2095              96.3                    94.2       10205   \n",
       "6      4772              47.3                    95.4        3208   \n",
       "7      4092              81.7                    96.0        6051   \n",
       "8      3979              93.3                    97.2        1775   \n",
       "9      3169              51.4                    97.3        7940   \n",
       "10     1466             101.9                    98.0        2987   \n",
       "11     2238              73.9                    95.4        1748   \n",
       "12     1330              95.4                    99.2        6155   \n",
       "13     2482              79.1                    99.0         829   \n",
       "14     3135              68.1                    99.7        8124   \n",
       "15     4444              40.0                    99.0        1449   \n",
       "16     4171              58.3                    97.8        5643   \n",
       "18     4735              98.1                    96.0        5846   \n",
       "19     2606              53.9                    96.3        1976   \n",
       "20     2685              74.1                    99.6        2601   \n",
       "21     4380              68.3                    98.0        1058   \n",
       "\n",
       "    Sleep Duration (hours) Activity Level  Stress Level  \n",
       "0                      7.2  Highly_Active             1  \n",
       "2                      0.0  Highly_Active             5  \n",
       "3                      7.4         Active             3  \n",
       "4                      0.0  Highly_Active             6  \n",
       "5                      8.4  Highly_Active            10  \n",
       "6                      7.9      Sedentary             2  \n",
       "7                      5.2      Sedentary             1  \n",
       "8                      5.5      Sedentary             1  \n",
       "9                      8.0      Sedentary             8  \n",
       "10                     7.5      Sedentary             9  \n",
       "11                     4.8         Active             1  \n",
       "12                     5.8  Highly_Active            10  \n",
       "13                     6.3      Sedentary             6  \n",
       "14                     6.4  Highly_Active             5  \n",
       "15                     6.4         Active             2  \n",
       "16                     7.8      Sedentary            10  \n",
       "18                     6.6      Sedentary             9  \n",
       "19                     5.4  Highly_Active             5  \n",
       "20                     6.8  Highly_Active             9  \n",
       "21                     6.5         Active             3  "
      ]
     },
     "execution_count": 160,
     "metadata": {},
     "output_type": "execute_result"
    }
   ],
   "source": [
    "# Let's look at the cleaned data\n",
    "df.head(20)"
   ]
  },
  {
   "cell_type": "code",
   "execution_count": 117,
   "id": "b141db29-6e0b-441b-a3ca-ca3dff5a3387",
   "metadata": {},
   "outputs": [],
   "source": [
    "df.to_csv('cleaned_smartwatch_health_data.csv', index=False)"
   ]
  },
  {
   "cell_type": "code",
   "execution_count": 162,
   "id": "1e8b5a8a-1dc8-4257-81e0-f92921ea69e4",
   "metadata": {},
   "outputs": [],
   "source": [
    "# In this project we used different strategies for missing data replacement."
   ]
  }
 ],
 "metadata": {
  "kernelspec": {
   "display_name": "Python 3 (ipykernel)",
   "language": "python",
   "name": "python3"
  },
  "language_info": {
   "codemirror_mode": {
    "name": "ipython",
    "version": 3
   },
   "file_extension": ".py",
   "mimetype": "text/x-python",
   "name": "python",
   "nbconvert_exporter": "python",
   "pygments_lexer": "ipython3",
   "version": "3.12.8"
  }
 },
 "nbformat": 4,
 "nbformat_minor": 5
}
